{
  "nbformat": 4,
  "nbformat_minor": 0,
  "metadata": {
    "colab": {
      "provenance": []
    },
    "kernelspec": {
      "name": "python3",
      "display_name": "Python 3"
    },
    "language_info": {
      "name": "python"
    }
  },
  "cells": [
    {
      "cell_type": "markdown",
      "source": [
        "<H1><B>DAY 12\n",
        "\n",
        "---\n",
        "\n"
      ],
      "metadata": {
        "id": "VVFdNXnUTc9B"
      }
    },
    {
      "cell_type": "markdown",
      "source": [
        "<H1><B>Random Numbers in NumPy\n",
        "\n",
        "---\n"
      ],
      "metadata": {
        "id": "lB6uIBVmSdaP"
      }
    },
    {
      "cell_type": "markdown",
      "source": [
        "NumPy offers the random module to work with random numbers."
      ],
      "metadata": {
        "id": "XOvrhR6ASk0L"
      }
    },
    {
      "cell_type": "code",
      "execution_count": 1,
      "metadata": {
        "colab": {
          "base_uri": "https://localhost:8080/"
        },
        "id": "luHs02reSa7E",
        "outputId": "c3a93282-ae74-438d-c33d-df3b204bf798"
      },
      "outputs": [
        {
          "output_type": "stream",
          "name": "stdout",
          "text": [
            "3\n"
          ]
        }
      ],
      "source": [
        "from numpy import random\n",
        "\n",
        "x = random.randint(100)\n",
        "\n",
        "print(x)"
      ]
    },
    {
      "cell_type": "code",
      "source": [
        "from numpy import random\n",
        "\n",
        "x = random.rand()\n",
        "\n",
        "print(x)"
      ],
      "metadata": {
        "colab": {
          "base_uri": "https://localhost:8080/"
        },
        "id": "zQgA66cMSwLN",
        "outputId": "e5854624-540c-4a3f-c908-8fb5ea20b88a"
      },
      "execution_count": 2,
      "outputs": [
        {
          "output_type": "stream",
          "name": "stdout",
          "text": [
            "0.3462008066864183\n"
          ]
        }
      ]
    },
    {
      "cell_type": "code",
      "source": [
        "from numpy import random\n",
        "\n",
        "x=random.randint(100, size=(5))\n",
        "\n",
        "print(x)"
      ],
      "metadata": {
        "colab": {
          "base_uri": "https://localhost:8080/"
        },
        "id": "JPrqdsVgS2bG",
        "outputId": "9c6097f5-4f0d-433c-b689-e2b76d758c88"
      },
      "execution_count": 3,
      "outputs": [
        {
          "output_type": "stream",
          "name": "stdout",
          "text": [
            "[21 40 35  0 59]\n"
          ]
        }
      ]
    },
    {
      "cell_type": "code",
      "source": [
        "from numpy import random\n",
        "\n",
        "x = random.randint(100, size=(3, 5))\n",
        "\n",
        "print(x)"
      ],
      "metadata": {
        "colab": {
          "base_uri": "https://localhost:8080/"
        },
        "id": "YeghgnKpS6lh",
        "outputId": "18be8b25-63ac-4cdb-d7e8-0a602a215145"
      },
      "execution_count": 4,
      "outputs": [
        {
          "output_type": "stream",
          "name": "stdout",
          "text": [
            "[[23 17  8 78 66]\n",
            " [11 99 27 12 76]\n",
            " [32  2 13 28 51]]\n"
          ]
        }
      ]
    },
    {
      "cell_type": "code",
      "source": [
        "from numpy import random\n",
        "\n",
        "x = random.rand(5)\n",
        "\n",
        "print(x)"
      ],
      "metadata": {
        "colab": {
          "base_uri": "https://localhost:8080/"
        },
        "id": "MSK-lFGOS-6v",
        "outputId": "0882cc4e-6d0f-48b1-bc9e-47ec628ccd8e"
      },
      "execution_count": 5,
      "outputs": [
        {
          "output_type": "stream",
          "name": "stdout",
          "text": [
            "[0.53495326 0.21647435 0.47787612 0.94615189 0.94149046]\n"
          ]
        }
      ]
    },
    {
      "cell_type": "code",
      "source": [
        "from numpy import random\n",
        "\n",
        "x = random.rand(3, 5)\n",
        "\n",
        "print(x)"
      ],
      "metadata": {
        "colab": {
          "base_uri": "https://localhost:8080/"
        },
        "id": "0GnJT9IuTCfN",
        "outputId": "8cdf96a8-7280-42dc-c809-a953d3db2ca0"
      },
      "execution_count": 6,
      "outputs": [
        {
          "output_type": "stream",
          "name": "stdout",
          "text": [
            "[[0.05515526 0.68637034 0.71853598 0.3947968  0.85772523]\n",
            " [0.34582223 0.91321581 0.66290396 0.96653666 0.01621133]\n",
            " [0.55387523 0.84078493 0.52353287 0.32179977 0.91802944]]\n"
          ]
        }
      ]
    },
    {
      "cell_type": "markdown",
      "source": [
        "<H3>Generate Random Number From Array</H3>\n",
        "\n",
        "The choice() method allows you to generate a random value based on an array of values.\n",
        "\n",
        "The choice() method takes an array as a parameter and randomly returns one of the values."
      ],
      "metadata": {
        "id": "4Kc3_df-TJKx"
      }
    },
    {
      "cell_type": "code",
      "source": [
        "from numpy import random\n",
        "\n",
        "x = random.choice([3, 5, 7, 9])\n",
        "\n",
        "print(x)"
      ],
      "metadata": {
        "colab": {
          "base_uri": "https://localhost:8080/"
        },
        "id": "FwzwVrVoTFJL",
        "outputId": "a30d5809-721d-4667-e3b9-2eabc0b3e4c0"
      },
      "execution_count": 7,
      "outputs": [
        {
          "output_type": "stream",
          "name": "stdout",
          "text": [
            "5\n"
          ]
        }
      ]
    },
    {
      "cell_type": "code",
      "source": [
        "from numpy import random\n",
        "\n",
        "x = random.choice([3, 5, 7, 9], size=(3, 5))\n",
        "\n",
        "print(x)"
      ],
      "metadata": {
        "colab": {
          "base_uri": "https://localhost:8080/"
        },
        "id": "YV9xXzAqTSDY",
        "outputId": "314e39a0-92dd-4409-8f62-14247b19225f"
      },
      "execution_count": 8,
      "outputs": [
        {
          "output_type": "stream",
          "name": "stdout",
          "text": [
            "[[9 5 3 3 5]\n",
            " [5 3 7 5 3]\n",
            " [3 3 5 5 9]]\n"
          ]
        }
      ]
    }
  ]
}