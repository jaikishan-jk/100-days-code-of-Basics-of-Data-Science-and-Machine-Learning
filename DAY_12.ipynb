{
  "nbformat": 4,
  "nbformat_minor": 0,
  "metadata": {
    "colab": {
      "provenance": []
    },
    "kernelspec": {
      "name": "python3",
      "display_name": "Python 3"
    },
    "language_info": {
      "name": "python"
    }
  },
  "cells": [
    {
      "cell_type": "markdown",
      "source": [
        "<H1><B>DAY 12\n",
        "\n",
        "---\n",
        "\n"
      ],
      "metadata": {
        "id": "6gPumhjH2Zld"
      }
    },
    {
      "cell_type": "markdown",
      "source": [
        "<H2>NUMPY BUILT-IN FUNCTIONS\n",
        "\n",
        "---\n",
        "\n"
      ],
      "metadata": {
        "id": "JeSLEdYS2eUV"
      }
    },
    {
      "cell_type": "markdown",
      "source": [
        "<H3>Addition</H3>\n",
        "\n",
        "The add() function sums the content of two arrays, and return the results in a new array."
      ],
      "metadata": {
        "id": "8mq_eSqu2jZJ"
      }
    },
    {
      "cell_type": "code",
      "execution_count": 2,
      "metadata": {
        "colab": {
          "base_uri": "https://localhost:8080/"
        },
        "id": "r0wfOsLR14Ik",
        "outputId": "eb935661-a456-4ae6-fa55-32019ecdeb07"
      },
      "outputs": [
        {
          "output_type": "stream",
          "name": "stdout",
          "text": [
            "[30 32 34 36 38 40]\n"
          ]
        }
      ],
      "source": [
        "import numpy as np\n",
        "arr1 = np.array([10, 11, 12, 13, 14, 15])\n",
        "arr2 = np.array([20, 21, 22, 23, 24, 25])\n",
        "\n",
        "newarr = np.add(arr1, arr2)\n",
        "\n",
        "print(newarr)"
      ]
    },
    {
      "cell_type": "markdown",
      "source": [
        "<h3>Subtraction</h3>\n",
        "The subtract() function subtracts the values from one array with the values from another array, and return the results in a new array."
      ],
      "metadata": {
        "id": "w73LkSFo2wxe"
      }
    },
    {
      "cell_type": "code",
      "source": [
        "newarr = np.subtract(arr1, arr2)\n",
        "\n",
        "print(newarr)"
      ],
      "metadata": {
        "colab": {
          "base_uri": "https://localhost:8080/"
        },
        "id": "t6guKC8w2sM8",
        "outputId": "88003264-8594-4c9f-8566-c728ac701a17"
      },
      "execution_count": 3,
      "outputs": [
        {
          "output_type": "stream",
          "name": "stdout",
          "text": [
            "[-10 -10 -10 -10 -10 -10]\n"
          ]
        }
      ]
    },
    {
      "cell_type": "markdown",
      "source": [
        "<h3>Multiplication</h3>\n",
        "The multiply() function multiplies the values from one array with the values from another array, and return the results in a new array."
      ],
      "metadata": {
        "id": "kY0i0rb03Kfu"
      }
    },
    {
      "cell_type": "code",
      "source": [
        "newarr = np.multiply(arr1, arr2)\n",
        "\n",
        "print(newarr)"
      ],
      "metadata": {
        "colab": {
          "base_uri": "https://localhost:8080/"
        },
        "id": "14zU-19h3Gav",
        "outputId": "33fb208b-1ea4-4f97-ac7f-9bf436d61a14"
      },
      "execution_count": 4,
      "outputs": [
        {
          "output_type": "stream",
          "name": "stdout",
          "text": [
            "[200 231 264 299 336 375]\n"
          ]
        }
      ]
    },
    {
      "cell_type": "markdown",
      "source": [
        "<h3>Division</h3>\n",
        "The divide() function divides the values from one array with the values from another array, and return the results in a new array."
      ],
      "metadata": {
        "id": "X-TQthXZ3U8_"
      }
    },
    {
      "cell_type": "code",
      "source": [
        "newarr = np.divide(arr1, arr2)\n",
        "\n",
        "print(newarr)"
      ],
      "metadata": {
        "colab": {
          "base_uri": "https://localhost:8080/"
        },
        "id": "NUoqVm_B3ZeH",
        "outputId": "2b74548c-1796-451a-e18c-60d82ca90d71"
      },
      "execution_count": 5,
      "outputs": [
        {
          "output_type": "stream",
          "name": "stdout",
          "text": [
            "[0.5        0.52380952 0.54545455 0.56521739 0.58333333 0.6       ]\n"
          ]
        }
      ]
    },
    {
      "cell_type": "markdown",
      "source": [
        "<h3>Power</h3>\n",
        "The power() function rises the values from the first array to the power of the values of the second array, and return the results in a new array."
      ],
      "metadata": {
        "id": "ivMdfrNy3f_k"
      }
    },
    {
      "cell_type": "code",
      "source": [
        "arr1 = np.array([10, 20, 30, 40, 50, 60])\n",
        "arr2 = np.array([3, 5, 6, 8, 2, 3])\n",
        "\n",
        "newarr = np.power(arr1, arr2)\n",
        "\n",
        "print(newarr)\n"
      ],
      "metadata": {
        "colab": {
          "base_uri": "https://localhost:8080/"
        },
        "id": "WK-jq7Lp3kQk",
        "outputId": "4021c243-190d-4a9a-c0e7-35f6df5e7103"
      },
      "execution_count": 7,
      "outputs": [
        {
          "output_type": "stream",
          "name": "stdout",
          "text": [
            "[         1000       3200000     729000000 6553600000000          2500\n",
            "        216000]\n"
          ]
        }
      ]
    },
    {
      "cell_type": "markdown",
      "source": [
        "<h3>Remainder</h3>\n",
        "Both the mod() and the remainder() functions return the remainder of the values in the first array corresponding to the values in the second array, and return the results in a new array."
      ],
      "metadata": {
        "id": "XNtxmth73vA6"
      }
    },
    {
      "cell_type": "code",
      "source": [
        "arr1 = np.array([10, 20, 30, 40, 50, 60])\n",
        "arr2 = np.array([3, 7, 9, 8, 2, 33])\n",
        "\n",
        "newarr = np.mod(arr1, arr2)\n",
        "\n",
        "print(newarr)"
      ],
      "metadata": {
        "colab": {
          "base_uri": "https://localhost:8080/"
        },
        "id": "LSE8eEdh3yoL",
        "outputId": "96218873-1dba-4604-9685-f5bc9ea848b4"
      },
      "execution_count": 8,
      "outputs": [
        {
          "output_type": "stream",
          "name": "stdout",
          "text": [
            "[ 1  6  3  0  0 27]\n"
          ]
        }
      ]
    },
    {
      "cell_type": "markdown",
      "source": [
        "<h3>Absolute Values</h3>\n",
        "Both the absolute() and the abs() functions do the same absolute operation element-wise but we should use absolute() to avoid confusion with python's inbuilt math.abs()"
      ],
      "metadata": {
        "id": "07o4rZel38Tn"
      }
    },
    {
      "cell_type": "code",
      "source": [
        "import numpy as np\n",
        "\n",
        "arr = np.array([-1, -2, 1, 2, 3, -4])\n",
        "\n",
        "newarr = np.absolute(arr)\n",
        "\n",
        "print(newarr)"
      ],
      "metadata": {
        "colab": {
          "base_uri": "https://localhost:8080/"
        },
        "id": "DzBlVDcC4AHj",
        "outputId": "2f57a895-cdca-44df-fb6b-ca7f505a6818"
      },
      "execution_count": 9,
      "outputs": [
        {
          "output_type": "stream",
          "name": "stdout",
          "text": [
            "[1 2 1 2 3 4]\n"
          ]
        }
      ]
    },
    {
      "cell_type": "markdown",
      "source": [
        "<h3>Logarithm</h3>"
      ],
      "metadata": {
        "id": "pUTxt1AN4Org"
      }
    },
    {
      "cell_type": "code",
      "source": [
        "import numpy as np\n",
        "\n",
        "arr = np.arange(1, 10)\n",
        "\n",
        "print(np.log10(arr))"
      ],
      "metadata": {
        "colab": {
          "base_uri": "https://localhost:8080/"
        },
        "id": "XwQTBy1J4K4c",
        "outputId": "f8834a70-3254-45c6-fb32-5eeb3e54a3b1"
      },
      "execution_count": 10,
      "outputs": [
        {
          "output_type": "stream",
          "name": "stdout",
          "text": [
            "[0.         0.30103    0.47712125 0.60205999 0.69897    0.77815125\n",
            " 0.84509804 0.90308999 0.95424251]\n"
          ]
        }
      ]
    },
    {
      "cell_type": "code",
      "source": [],
      "metadata": {
        "id": "p5NOI9cB4XVn"
      },
      "execution_count": null,
      "outputs": []
    },
    {
      "cell_type": "code",
      "source": [],
      "metadata": {
        "id": "OydNGRT14Laf"
      },
      "execution_count": null,
      "outputs": []
    }
  ]
}