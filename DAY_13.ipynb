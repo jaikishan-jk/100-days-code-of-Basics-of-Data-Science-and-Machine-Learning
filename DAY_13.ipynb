{
  "nbformat": 4,
  "nbformat_minor": 0,
  "metadata": {
    "colab": {
      "provenance": []
    },
    "kernelspec": {
      "name": "python3",
      "display_name": "Python 3"
    },
    "language_info": {
      "name": "python"
    }
  },
  "cells": [
    {
      "cell_type": "markdown",
      "source": [
        "<H1><B>DAY 13\n",
        "\n",
        "---\n",
        "\n"
      ],
      "metadata": {
        "id": "3l2v8XMREbB1"
      }
    },
    {
      "cell_type": "markdown",
      "source": [
        "<H2>NumPy LCM Lowest Common Multiple\n",
        "\n",
        "---\n",
        "\n"
      ],
      "metadata": {
        "id": "P9xeq3e-Ee39"
      }
    },
    {
      "cell_type": "code",
      "execution_count": 1,
      "metadata": {
        "colab": {
          "base_uri": "https://localhost:8080/"
        },
        "id": "alj4V0c0EYe2",
        "outputId": "5aa1b081-1d53-446a-d63a-3a126556bf3b"
      },
      "outputs": [
        {
          "output_type": "stream",
          "name": "stdout",
          "text": [
            "12\n"
          ]
        }
      ],
      "source": [
        "import numpy as np\n",
        "\n",
        "num1 = 4\n",
        "num2 = 6\n",
        "\n",
        "x = np.lcm(num1, num2)\n",
        "\n",
        "print(x)"
      ]
    },
    {
      "cell_type": "code",
      "source": [
        "import numpy as np\n",
        "\n",
        "arr = np.array([3, 6, 9])\n",
        "\n",
        "x = np.lcm.reduce(arr)\n",
        "\n",
        "print(x)"
      ],
      "metadata": {
        "colab": {
          "base_uri": "https://localhost:8080/"
        },
        "id": "7AzYikm6EnqT",
        "outputId": "672233a5-1240-4c9b-c6a4-f84feb88ff43"
      },
      "execution_count": 2,
      "outputs": [
        {
          "output_type": "stream",
          "name": "stdout",
          "text": [
            "18\n"
          ]
        }
      ]
    },
    {
      "cell_type": "code",
      "source": [
        "import numpy as np\n",
        "\n",
        "arr = np.arange(1, 11)\n",
        "\n",
        "x = np.lcm.reduce(arr)\n",
        "\n",
        "print(x)"
      ],
      "metadata": {
        "colab": {
          "base_uri": "https://localhost:8080/"
        },
        "id": "8DSXz9YnEz4h",
        "outputId": "b5e6a382-39a1-4c27-f4f5-5a7012f49116"
      },
      "execution_count": 3,
      "outputs": [
        {
          "output_type": "stream",
          "name": "stdout",
          "text": [
            "2520\n"
          ]
        }
      ]
    },
    {
      "cell_type": "markdown",
      "source": [
        "<H2>NumPy GCD Greatest Common Denominator\n",
        "\n",
        "\n",
        "---\n",
        "\n"
      ],
      "metadata": {
        "id": "nvdvWk06E5OH"
      }
    },
    {
      "cell_type": "code",
      "source": [
        "import numpy as np\n",
        "\n",
        "num1 = 6\n",
        "num2 = 9\n",
        "\n",
        "x = np.gcd(num1, num2)\n",
        "\n",
        "print(x)"
      ],
      "metadata": {
        "colab": {
          "base_uri": "https://localhost:8080/"
        },
        "id": "1S7ieoGuE0hM",
        "outputId": "c0bdc198-09d4-44ac-866a-4f536c1c1a5b"
      },
      "execution_count": 4,
      "outputs": [
        {
          "output_type": "stream",
          "name": "stdout",
          "text": [
            "3\n"
          ]
        }
      ]
    },
    {
      "cell_type": "code",
      "source": [
        "import numpy as np\n",
        "\n",
        "arr = np.array([20, 8, 32, 36, 16])\n",
        "\n",
        "x = np.gcd.reduce(arr)\n",
        "\n",
        "print(x)"
      ],
      "metadata": {
        "colab": {
          "base_uri": "https://localhost:8080/"
        },
        "id": "_UfsmmjRFC1K",
        "outputId": "652d6880-436b-4a90-b638-98547c8a0348"
      },
      "execution_count": 5,
      "outputs": [
        {
          "output_type": "stream",
          "name": "stdout",
          "text": [
            "4\n"
          ]
        }
      ]
    },
    {
      "cell_type": "code",
      "source": [],
      "metadata": {
        "id": "ufUZ4DFoFDXf"
      },
      "execution_count": null,
      "outputs": []
    }
  ]
}