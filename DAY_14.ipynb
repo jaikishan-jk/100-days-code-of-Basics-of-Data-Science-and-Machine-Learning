{
  "nbformat": 4,
  "nbformat_minor": 0,
  "metadata": {
    "colab": {
      "provenance": []
    },
    "kernelspec": {
      "name": "python3",
      "display_name": "Python 3"
    },
    "language_info": {
      "name": "python"
    }
  },
  "cells": [
    {
      "cell_type": "markdown",
      "source": [
        "<H1><B>DAY 14\n",
        "\n",
        "---\n",
        "\n"
      ],
      "metadata": {
        "id": "qUteUXCndjVL"
      }
    },
    {
      "cell_type": "markdown",
      "source": [
        "<H2>NumPy Trigonometric Functions\n",
        "\n",
        "---\n",
        "\n"
      ],
      "metadata": {
        "id": "8SGnkuKedm2S"
      }
    },
    {
      "cell_type": "code",
      "execution_count": 1,
      "metadata": {
        "colab": {
          "base_uri": "https://localhost:8080/"
        },
        "id": "lYDZ2ue9dg-n",
        "outputId": "904b98fa-2c9b-4388-96f1-e8e2e87766cd"
      },
      "outputs": [
        {
          "output_type": "stream",
          "name": "stdout",
          "text": [
            "1.0\n"
          ]
        }
      ],
      "source": [
        "import numpy as np\n",
        "\n",
        "x = np.sin(np.pi/2)\n",
        "\n",
        "print(x)"
      ]
    },
    {
      "cell_type": "code",
      "source": [
        "import numpy as np\n",
        "\n",
        "x = np.cos(np.pi/2)\n",
        "\n",
        "print(x)"
      ],
      "metadata": {
        "colab": {
          "base_uri": "https://localhost:8080/"
        },
        "id": "I2suHgxmduBk",
        "outputId": "174401f2-99eb-421f-e81c-4b1b67951ce1"
      },
      "execution_count": 2,
      "outputs": [
        {
          "output_type": "stream",
          "name": "stdout",
          "text": [
            "6.123233995736766e-17\n"
          ]
        }
      ]
    },
    {
      "cell_type": "code",
      "source": [
        "import numpy as np\n",
        "\n",
        "x = np.tan(np.pi/2)\n",
        "\n",
        "print(x)"
      ],
      "metadata": {
        "colab": {
          "base_uri": "https://localhost:8080/"
        },
        "id": "LLfUa0j1dypW",
        "outputId": "e1dee4db-7b37-45e1-de1b-8191440f1334"
      },
      "execution_count": 3,
      "outputs": [
        {
          "output_type": "stream",
          "name": "stdout",
          "text": [
            "1.633123935319537e+16\n"
          ]
        }
      ]
    },
    {
      "cell_type": "markdown",
      "source": [
        "<h3>Convert Degrees Into Radians"
      ],
      "metadata": {
        "id": "kyNOFtdrd-I6"
      }
    },
    {
      "cell_type": "code",
      "source": [
        "import numpy as np\n",
        "\n",
        "arr = np.array([90, 180, 270, 360])\n",
        "\n",
        "x = np.deg2rad(arr)\n",
        "\n",
        "print(x)"
      ],
      "metadata": {
        "colab": {
          "base_uri": "https://localhost:8080/"
        },
        "id": "TJwuXnRod2OC",
        "outputId": "255f3009-2a22-4cc0-d7f8-e6ad8bf78f88"
      },
      "execution_count": 4,
      "outputs": [
        {
          "output_type": "stream",
          "name": "stdout",
          "text": [
            "[1.57079633 3.14159265 4.71238898 6.28318531]\n"
          ]
        }
      ]
    },
    {
      "cell_type": "markdown",
      "source": [
        "<h3>Radians to Degrees"
      ],
      "metadata": {
        "id": "4F6VLZO1eFf6"
      }
    },
    {
      "cell_type": "code",
      "source": [
        "import numpy as np\n",
        "\n",
        "arr = np.array([np.pi/2, np.pi, 1.5*np.pi, 2*np.pi])\n",
        "\n",
        "x = np.rad2deg(arr)\n",
        "\n",
        "print(x)"
      ],
      "metadata": {
        "colab": {
          "base_uri": "https://localhost:8080/"
        },
        "id": "LhJwioPyeGww",
        "outputId": "c1ac40d5-8b19-4542-850e-22bfc4be3fa1"
      },
      "execution_count": 5,
      "outputs": [
        {
          "output_type": "stream",
          "name": "stdout",
          "text": [
            "[ 90. 180. 270. 360.]\n"
          ]
        }
      ]
    },
    {
      "cell_type": "markdown",
      "source": [
        "<h3>Finding Angles"
      ],
      "metadata": {
        "id": "hU51_cqieKm2"
      }
    },
    {
      "cell_type": "code",
      "source": [
        "import numpy as np\n",
        "\n",
        "x = np.arcsin(1.0)\n",
        "\n",
        "print(x)"
      ],
      "metadata": {
        "colab": {
          "base_uri": "https://localhost:8080/"
        },
        "id": "acC2mIMteL1e",
        "outputId": "1ce50f99-26b7-48b5-9de8-4adae05916dd"
      },
      "execution_count": 6,
      "outputs": [
        {
          "output_type": "stream",
          "name": "stdout",
          "text": [
            "1.5707963267948966\n"
          ]
        }
      ]
    },
    {
      "cell_type": "markdown",
      "source": [
        "<h3>Hypotenues"
      ],
      "metadata": {
        "id": "tqMVLi0NeR_m"
      }
    },
    {
      "cell_type": "code",
      "source": [
        "import numpy as np\n",
        "\n",
        "base = 3\n",
        "perp = 4\n",
        "\n",
        "x = np.hypot(base, perp)\n",
        "\n",
        "print(x)\n"
      ],
      "metadata": {
        "colab": {
          "base_uri": "https://localhost:8080/"
        },
        "id": "1BG2yTq5eY4v",
        "outputId": "bcdd00d1-be53-4fe8-c08a-17aa18cf9595"
      },
      "execution_count": 8,
      "outputs": [
        {
          "output_type": "stream",
          "name": "stdout",
          "text": [
            "5.0\n"
          ]
        }
      ]
    }
  ]
}