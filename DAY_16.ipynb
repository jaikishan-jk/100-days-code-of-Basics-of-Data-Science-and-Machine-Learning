{
  "nbformat": 4,
  "nbformat_minor": 0,
  "metadata": {
    "colab": {
      "provenance": []
    },
    "kernelspec": {
      "name": "python3",
      "display_name": "Python 3"
    },
    "language_info": {
      "name": "python"
    }
  },
  "cells": [
    {
      "cell_type": "markdown",
      "source": [
        "<H1><B>DAY 16\n",
        "\n",
        "---\n",
        "\n"
      ],
      "metadata": {
        "id": "XHlgj4LK0DHV"
      }
    },
    {
      "cell_type": "markdown",
      "source": [
        "<H2>NumPy Set Operations\n",
        "\n",
        "---\n",
        "\n"
      ],
      "metadata": {
        "id": "Vm6snViE0LCc"
      }
    },
    {
      "cell_type": "markdown",
      "source": [
        "NumPy's unique() method to find unique elements from any array."
      ],
      "metadata": {
        "id": "-P252BVv0bzg"
      }
    },
    {
      "cell_type": "code",
      "execution_count": 1,
      "metadata": {
        "colab": {
          "base_uri": "https://localhost:8080/"
        },
        "id": "OAmA-pJOz_aN",
        "outputId": "b446b96d-86f6-469c-d04c-b377b8e6581e"
      },
      "outputs": [
        {
          "output_type": "stream",
          "name": "stdout",
          "text": [
            "[1 2 3 4 5]\n"
          ]
        }
      ],
      "source": [
        "import numpy as np\n",
        "\n",
        "arr = np.array([1, 1, 1, 2,2,3,3,3,4,5,5,5])\n",
        "\n",
        "x = np.unique(arr)\n",
        "\n",
        "print(x)"
      ]
    },
    {
      "cell_type": "markdown",
      "source": [
        "To find the unique values of two arrays, use the union1d() method."
      ],
      "metadata": {
        "id": "2-Us6OOS0tpv"
      }
    },
    {
      "cell_type": "code",
      "source": [
        "import numpy as np\n",
        "\n",
        "arr1 = np.array([1, 2, 3, 4])\n",
        "arr2 = np.array([3, 4, 5, 6])\n",
        "\n",
        "newarr = np.union1d(arr1, arr2)\n",
        "\n",
        "print(newarr)"
      ],
      "metadata": {
        "colab": {
          "base_uri": "https://localhost:8080/"
        },
        "id": "mAA3SVaU0ulb",
        "outputId": "b131f3a9-344a-4ec0-83a5-042e87142ddb"
      },
      "execution_count": 2,
      "outputs": [
        {
          "output_type": "stream",
          "name": "stdout",
          "text": [
            "[1 2 3 4 5 6]\n"
          ]
        }
      ]
    },
    {
      "cell_type": "markdown",
      "source": [
        "To find only the values that are present in both arrays, use the intersect1d() method."
      ],
      "metadata": {
        "id": "Q1cJyMer02Se"
      }
    },
    {
      "cell_type": "code",
      "source": [
        "import numpy as np\n",
        "\n",
        "arr1 = np.array([1, 2, 3, 4])\n",
        "arr2 = np.array([3, 4, 5, 6])\n",
        "\n",
        "newarr = np.intersect1d(arr1, arr2, assume_unique=True)\n",
        "\n",
        "print(newarr)"
      ],
      "metadata": {
        "colab": {
          "base_uri": "https://localhost:8080/"
        },
        "id": "EIrlPgbP03It",
        "outputId": "f4c5368a-5cd4-4744-bffc-a927f9444443"
      },
      "execution_count": 3,
      "outputs": [
        {
          "output_type": "stream",
          "name": "stdout",
          "text": [
            "[3 4]\n"
          ]
        }
      ]
    },
    {
      "cell_type": "markdown",
      "source": [
        "To find only the values in the first set that is NOT present in the seconds set, use the setdiff1d() method."
      ],
      "metadata": {
        "id": "7kqTQLxk1AgC"
      }
    },
    {
      "cell_type": "code",
      "source": [
        "import numpy as np\n",
        "\n",
        "set1 = np.array([1, 2, 3, 4])\n",
        "set2 = np.array([3, 4, 5, 6])\n",
        "\n",
        "newarr = np.setdiff1d(set1, set2, assume_unique=True)\n",
        "\n",
        "print(newarr)"
      ],
      "metadata": {
        "id": "rG0ENrTt1ESv",
        "outputId": "cf2738a7-9348-43aa-9d26-fe0d519e9de6",
        "colab": {
          "base_uri": "https://localhost:8080/"
        }
      },
      "execution_count": 4,
      "outputs": [
        {
          "output_type": "stream",
          "name": "stdout",
          "text": [
            "[1 2]\n"
          ]
        }
      ]
    },
    {
      "cell_type": "markdown",
      "source": [
        "To find only the values that are NOT present in BOTH sets, use the setxor1d() method."
      ],
      "metadata": {
        "id": "h4cXDdcp1KNE"
      }
    },
    {
      "cell_type": "code",
      "source": [
        "import numpy as np\n",
        "\n",
        "set1 = np.array([1, 2, 3, 4])\n",
        "set2 = np.array([3, 4, 5, 6])\n",
        "\n",
        "newarr = np.setxor1d(set1, set2, assume_unique=True)\n",
        "\n",
        "print(newarr)"
      ],
      "metadata": {
        "id": "mo18cT4c1E7n",
        "outputId": "da8a1bda-1322-40f8-c6e9-18169d420b33",
        "colab": {
          "base_uri": "https://localhost:8080/"
        }
      },
      "execution_count": 5,
      "outputs": [
        {
          "output_type": "stream",
          "name": "stdout",
          "text": [
            "[1 2 5 6]\n"
          ]
        }
      ]
    }
  ]
}