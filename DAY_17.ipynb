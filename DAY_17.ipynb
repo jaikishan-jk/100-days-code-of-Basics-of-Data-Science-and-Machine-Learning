{
  "nbformat": 4,
  "nbformat_minor": 0,
  "metadata": {
    "colab": {
      "provenance": []
    },
    "kernelspec": {
      "name": "python3",
      "display_name": "Python 3"
    },
    "language_info": {
      "name": "python"
    }
  },
  "cells": [
    {
      "cell_type": "markdown",
      "source": [
        "<H1><B>DAY 17\n",
        "\n",
        "---\n",
        "\n"
      ],
      "metadata": {
        "id": "DHvsetL-2R9l"
      }
    },
    {
      "cell_type": "markdown",
      "source": [
        "<H2>Pandas Series\n",
        "\n",
        "---\n",
        "\n"
      ],
      "metadata": {
        "id": "yCGHyFXB2XBb"
      }
    },
    {
      "cell_type": "markdown",
      "source": [
        "A Pandas Series is like a column in a table.\n",
        "\n",
        "It is a one-dimensional array holding data of any type."
      ],
      "metadata": {
        "id": "4d_VWxkL2dXd"
      }
    },
    {
      "cell_type": "code",
      "execution_count": 1,
      "metadata": {
        "colab": {
          "base_uri": "https://localhost:8080/"
        },
        "id": "cG6IEC9C2N00",
        "outputId": "5bb252ad-b205-4b51-a3c3-93a99b7f1129"
      },
      "outputs": [
        {
          "output_type": "stream",
          "name": "stdout",
          "text": [
            "0    1\n",
            "1    2\n",
            "2    3\n",
            "3    4\n",
            "4    5\n",
            "dtype: int64\n"
          ]
        }
      ],
      "source": [
        "import pandas as pd\n",
        "\n",
        "a = [1,2,3,4,5]\n",
        "\n",
        "var = pd.Series(a)\n",
        "\n",
        "print(var)"
      ]
    },
    {
      "cell_type": "code",
      "source": [
        "print(var[0])"
      ],
      "metadata": {
        "colab": {
          "base_uri": "https://localhost:8080/"
        },
        "id": "ZHTh0DlY25aE",
        "outputId": "52434afb-3500-486f-f945-96484eeb659c"
      },
      "execution_count": 4,
      "outputs": [
        {
          "output_type": "stream",
          "name": "stdout",
          "text": [
            "1\n"
          ]
        }
      ]
    },
    {
      "cell_type": "markdown",
      "source": [
        "<H3>Create Labels</H3>\n",
        "\n",
        "With the index argument, you can name your own labels."
      ],
      "metadata": {
        "id": "jI0r9k0g3AW0"
      }
    },
    {
      "cell_type": "code",
      "source": [
        "import pandas as pd\n",
        "\n",
        "a = [1,2,3]\n",
        "\n",
        "myvar = pd.Series(a, index = [\"A\", \"B\", \"C\"])\n",
        "\n",
        "print(myvar)"
      ],
      "metadata": {
        "colab": {
          "base_uri": "https://localhost:8080/"
        },
        "id": "LbIHB6Bz3Leu",
        "outputId": "68e215d5-1557-49bd-ad0b-9e76ae6def99"
      },
      "execution_count": 5,
      "outputs": [
        {
          "output_type": "stream",
          "name": "stdout",
          "text": [
            "A    1\n",
            "B    2\n",
            "C    3\n",
            "dtype: int64\n"
          ]
        }
      ]
    },
    {
      "cell_type": "code",
      "source": [
        "import pandas as pd\n",
        "\n",
        "calories = {\"day1\": 420, \"day2\": 380, \"day3\": 390}\n",
        "\n",
        "myvar = pd.Series(calories)\n",
        "\n",
        "print(myvar)"
      ],
      "metadata": {
        "colab": {
          "base_uri": "https://localhost:8080/"
        },
        "id": "1TsMtzw-3dRZ",
        "outputId": "f27daa8d-c523-4b1b-d877-f1fbff1b740b"
      },
      "execution_count": 6,
      "outputs": [
        {
          "output_type": "stream",
          "name": "stdout",
          "text": [
            "day1    420\n",
            "day2    380\n",
            "day3    390\n",
            "dtype: int64\n"
          ]
        }
      ]
    }
  ]
}