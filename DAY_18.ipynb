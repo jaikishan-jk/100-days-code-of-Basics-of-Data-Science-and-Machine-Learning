{
  "nbformat": 4,
  "nbformat_minor": 0,
  "metadata": {
    "colab": {
      "provenance": []
    },
    "kernelspec": {
      "name": "python3",
      "display_name": "Python 3"
    },
    "language_info": {
      "name": "python"
    }
  },
  "cells": [
    {
      "cell_type": "markdown",
      "source": [
        "<H1><B>DAY 18\n",
        "\n",
        "---\n",
        "\n"
      ],
      "metadata": {
        "id": "CY6gbTWnX-jY"
      }
    },
    {
      "cell_type": "markdown",
      "source": [
        "<H2>Pandas DataFrames\n",
        "\n",
        "---\n",
        "\n"
      ],
      "metadata": {
        "id": "K4WgBzgTYI47"
      }
    },
    {
      "cell_type": "markdown",
      "source": [
        "A Pandas DataFrame is a 2 dimensional data structure, like a 2 dimensional array, or a table with rows and columns."
      ],
      "metadata": {
        "id": "x1ZL7I3TYLly"
      }
    },
    {
      "cell_type": "code",
      "execution_count": 1,
      "metadata": {
        "colab": {
          "base_uri": "https://localhost:8080/"
        },
        "id": "trTmcIb2X3AS",
        "outputId": "b88a78d8-5eaa-47b8-dd6a-16ac9797ffd2"
      },
      "outputs": [
        {
          "output_type": "stream",
          "name": "stdout",
          "text": [
            "   WEIGHT  PRICE\n",
            "0     420     50\n",
            "1     380     40\n",
            "2     390     45\n"
          ]
        }
      ],
      "source": [
        "import pandas as pd\n",
        "\n",
        "data = {\n",
        "  \"WEIGHT\": [420, 380, 390],\n",
        "  \"PRICE\": [50, 40, 45]\n",
        "}\n",
        "\n",
        "#load data into a DataFrame object:\n",
        "df = pd.DataFrame(data)\n",
        "\n",
        "print(df)"
      ]
    },
    {
      "cell_type": "code",
      "source": [
        "print(df.loc[0])"
      ],
      "metadata": {
        "colab": {
          "base_uri": "https://localhost:8080/"
        },
        "id": "ZDcvseKpYkrc",
        "outputId": "bb5939d3-3644-4450-d029-28131adf05f6"
      },
      "execution_count": 2,
      "outputs": [
        {
          "output_type": "stream",
          "name": "stdout",
          "text": [
            "WEIGHT    420\n",
            "PRICE      50\n",
            "Name: 0, dtype: int64\n"
          ]
        }
      ]
    },
    {
      "cell_type": "code",
      "source": [
        "print(df.loc[[0, 1]])"
      ],
      "metadata": {
        "colab": {
          "base_uri": "https://localhost:8080/"
        },
        "id": "0b9pvHoQYq1I",
        "outputId": "4855244f-ec9f-4646-8779-c3e522529531"
      },
      "execution_count": 3,
      "outputs": [
        {
          "output_type": "stream",
          "name": "stdout",
          "text": [
            "   WEIGHT  PRICE\n",
            "0     420     50\n",
            "1     380     40\n"
          ]
        }
      ]
    },
    {
      "cell_type": "code",
      "source": [
        "df = pd.DataFrame(data, index = [\"day1\", \"day2\", \"day3\"])\n",
        "\n",
        "print(df)"
      ],
      "metadata": {
        "colab": {
          "base_uri": "https://localhost:8080/"
        },
        "id": "mwmKdJAhYxoj",
        "outputId": "513c3f17-0d27-48cb-d9ac-e948578897f3"
      },
      "execution_count": 4,
      "outputs": [
        {
          "output_type": "stream",
          "name": "stdout",
          "text": [
            "      WEIGHT  PRICE\n",
            "day1     420     50\n",
            "day2     380     40\n",
            "day3     390     45\n"
          ]
        }
      ]
    },
    {
      "cell_type": "code",
      "source": [
        "print(df.loc[\"day2\"])"
      ],
      "metadata": {
        "colab": {
          "base_uri": "https://localhost:8080/"
        },
        "id": "gdkp1tibZZyQ",
        "outputId": "0a4c8842-f5a5-4e4a-85fa-6d0a1f7ff37a"
      },
      "execution_count": 5,
      "outputs": [
        {
          "output_type": "stream",
          "name": "stdout",
          "text": [
            "WEIGHT    380\n",
            "PRICE      40\n",
            "Name: day2, dtype: int64\n"
          ]
        }
      ]
    },
    {
      "cell_type": "code",
      "source": [],
      "metadata": {
        "id": "MRUk1dqrZaWs"
      },
      "execution_count": null,
      "outputs": []
    }
  ]
}