{
  "nbformat": 4,
  "nbformat_minor": 0,
  "metadata": {
    "colab": {
      "provenance": []
    },
    "kernelspec": {
      "name": "python3",
      "display_name": "Python 3"
    },
    "language_info": {
      "name": "python"
    }
  },
  "cells": [
    {
      "cell_type": "markdown",
      "source": [
        "<H1><B>DAY 5</H1></B>\n",
        "\n",
        "---\n",
        "\n"
      ],
      "metadata": {
        "id": "xYOps2gCF1Cl"
      }
    },
    {
      "cell_type": "markdown",
      "source": [
        "<H2>NumPy Array Copy vs View</H2>\n",
        "\n",
        "---\n",
        "\n"
      ],
      "metadata": {
        "id": "QEDSkx2qF8-K"
      }
    },
    {
      "cell_type": "markdown",
      "source": [
        "<H3>The Difference Between Copy and View</H3>\n",
        "The main difference between a copy and a view of an array is that the copy is a new array, and the view is just a view of the original array.\n",
        "\n",
        "The copy owns the data and any changes made to the copy will not affect original array, and any changes made to the original array will not affect the copy.\n",
        "\n",
        "The view does not own the data and any changes made to the view will affect the original array, and any changes made to the original array will affect the view."
      ],
      "metadata": {
        "id": "NTKMnJzlH9ch"
      }
    },
    {
      "cell_type": "markdown",
      "source": [
        "<H3>COPY:</H3>"
      ],
      "metadata": {
        "id": "TELBcnnEIH0J"
      }
    },
    {
      "cell_type": "code",
      "execution_count": null,
      "metadata": {
        "colab": {
          "base_uri": "https://localhost:8080/"
        },
        "id": "aG7JiDQEFq6H",
        "outputId": "a09a1823-57e6-4dbf-f772-710fca99f16d"
      },
      "outputs": [
        {
          "output_type": "stream",
          "name": "stdout",
          "text": [
            "[45  4  6  8]\n",
            "[2 4 6 8]\n"
          ]
        }
      ],
      "source": [
        "import numpy as np\n",
        "\n",
        "arr = np.array([2,4,6,8])\n",
        "x = arr.copy()\n",
        "arr[0] = 45\n",
        "print(arr)\n",
        "print(x)"
      ]
    },
    {
      "cell_type": "markdown",
      "source": [
        "<H3>VIEW:</H3>"
      ],
      "metadata": {
        "id": "vFMEUsO8IeNc"
      }
    },
    {
      "cell_type": "code",
      "source": [
        "x = arr.view()\n",
        "arr[0] = 45\n",
        "\n",
        "print(arr)\n",
        "print(x)"
      ],
      "metadata": {
        "colab": {
          "base_uri": "https://localhost:8080/"
        },
        "id": "SIBwYPIdIUM3",
        "outputId": "a7b3b457-d2d7-4043-dc4f-6277da9fbc7b"
      },
      "execution_count": null,
      "outputs": [
        {
          "output_type": "stream",
          "name": "stdout",
          "text": [
            "[45  4  6  8]\n",
            "[45  4  6  8]\n"
          ]
        }
      ]
    },
    {
      "cell_type": "markdown",
      "source": [
        "<H3>Make Changes in the VIEW:</H3>"
      ],
      "metadata": {
        "id": "sCYKket_I1Zj"
      }
    },
    {
      "cell_type": "code",
      "source": [
        "import numpy as np\n",
        "\n",
        "arr = np.array([1, 2, 3, 4, 5])\n",
        "x = arr.view()\n",
        "x[0] = 31\n",
        "\n",
        "print(arr)\n",
        "print(x)"
      ],
      "metadata": {
        "colab": {
          "base_uri": "https://localhost:8080/"
        },
        "id": "YwHFGyqJUIA2",
        "outputId": "d6a225ea-5578-4331-e1b2-8cb16566429c"
      },
      "execution_count": null,
      "outputs": [
        {
          "output_type": "stream",
          "name": "stdout",
          "text": [
            "[31  2  3  4  5]\n",
            "[31  2  3  4  5]\n"
          ]
        }
      ]
    },
    {
      "cell_type": "markdown",
      "source": [
        "<h3>Check if Array Owns its Data</h3>\n",
        "Every NumPy array has the attribute base that returns None if the array owns the data.\n",
        "Otherwise, the base  attribute refers to the original object."
      ],
      "metadata": {
        "id": "JvNnIS_Js16U"
      }
    },
    {
      "cell_type": "code",
      "source": [
        "import numpy as np\n",
        "\n",
        "arr = np.array([1, 2, 3, 4, 5])\n",
        "\n",
        "x = arr.copy()\n",
        "y = arr.view()\n",
        "\n",
        "print(x.base)\n",
        "print(y.base)"
      ],
      "metadata": {
        "id": "37GpVCYhUJ-g",
        "colab": {
          "base_uri": "https://localhost:8080/"
        },
        "outputId": "ff9b9482-2838-4710-ef14-c0826c6a0c9e"
      },
      "execution_count": 1,
      "outputs": [
        {
          "output_type": "stream",
          "name": "stdout",
          "text": [
            "None\n",
            "[1 2 3 4 5]\n"
          ]
        }
      ]
    },
    {
      "cell_type": "code",
      "source": [],
      "metadata": {
        "id": "nggm4q4xtQpY"
      },
      "execution_count": null,
      "outputs": []
    }
  ]
}