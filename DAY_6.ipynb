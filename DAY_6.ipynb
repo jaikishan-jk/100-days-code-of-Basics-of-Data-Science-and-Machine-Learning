{
  "nbformat": 4,
  "nbformat_minor": 0,
  "metadata": {
    "colab": {
      "provenance": []
    },
    "kernelspec": {
      "name": "python3",
      "display_name": "Python 3"
    },
    "language_info": {
      "name": "python"
    }
  },
  "cells": [
    {
      "cell_type": "markdown",
      "source": [
        "<H1><B>DAY 6</H1></B>\n",
        "\n",
        "---\n",
        "\n"
      ],
      "metadata": {
        "id": "wpvbS0jLAISk"
      }
    },
    {
      "cell_type": "markdown",
      "source": [
        "<H2>NumPy Array Shape</H2>\n",
        "\n",
        "---\n",
        "\n"
      ],
      "metadata": {
        "id": "z2WJSHlAAQWt"
      }
    },
    {
      "cell_type": "markdown",
      "source": [
        "NumPy arrays have an attribute called shape that returns a tuple with each index having the number of corresponding elements."
      ],
      "metadata": {
        "id": "bmH4ZyQ8AdHG"
      }
    },
    {
      "cell_type": "code",
      "source": [
        "import numpy as np\n",
        "\n",
        "arr = np.array([[1,3,5,7], [2,4,6,8]])\n",
        "\n",
        "print(arr.shape)"
      ],
      "metadata": {
        "colab": {
          "base_uri": "https://localhost:8080/"
        },
        "id": "smsD08ZeAZIX",
        "outputId": "ea8d6f16-3f2c-4981-b035-2a99aca695b4"
      },
      "execution_count": 3,
      "outputs": [
        {
          "output_type": "stream",
          "name": "stdout",
          "text": [
            "(2, 4)\n"
          ]
        }
      ]
    },
    {
      "cell_type": "code",
      "execution_count": 4,
      "metadata": {
        "colab": {
          "base_uri": "https://localhost:8080/"
        },
        "id": "1OjtCmb1_-4T",
        "outputId": "10484b22-7a60-4755-ace7-6ce77fa4bf8f"
      },
      "outputs": [
        {
          "output_type": "stream",
          "name": "stdout",
          "text": [
            "[[[[[1 2 3 4]]]]]\n",
            "shape of array : (1, 1, 1, 1, 4)\n"
          ]
        }
      ],
      "source": [
        "import numpy as np\n",
        "\n",
        "arr = np.array([1, 2, 3, 4], ndmin=5)\n",
        "\n",
        "print(arr)\n",
        "print('shape of array :', arr.shape)"
      ]
    },
    {
      "cell_type": "markdown",
      "source": [
        "<H2>Reshaping arrays</H2>\n",
        "\n",
        "---\n",
        "\n"
      ],
      "metadata": {
        "id": "N1US9hG7MCjl"
      }
    },
    {
      "cell_type": "markdown",
      "source": [
        "Reshaping means changing the shape of an array.\n",
        "\n",
        "The shape of an array is the number of elements in each dimension.\n",
        "\n",
        "By reshaping we can add or remove dimensions or change number of elements in each dimension.\n",
        "\n"
      ],
      "metadata": {
        "id": "I6D5yFUsMJs4"
      }
    },
    {
      "cell_type": "code",
      "source": [
        "import numpy as np\n",
        "\n",
        "arr = np.array([1,1,1,1,2,2,2,2,3,3,3,3])\n",
        "\n",
        "newarr = arr.reshape(4, 3)\n",
        "print(\"Reshape from 1D to 2D\")\n",
        "print(newarr)"
      ],
      "metadata": {
        "colab": {
          "base_uri": "https://localhost:8080/"
        },
        "id": "uGaBDqzFMPxH",
        "outputId": "9a9ffe44-187a-4f9d-d8d3-2b3274a459b3"
      },
      "execution_count": 2,
      "outputs": [
        {
          "output_type": "stream",
          "name": "stdout",
          "text": [
            "Reshape from 1D to 2D\n",
            "[[1 1 1]\n",
            " [1 2 2]\n",
            " [2 2 3]\n",
            " [3 3 3]]\n"
          ]
        }
      ]
    },
    {
      "cell_type": "code",
      "source": [
        "newarr = arr.reshape(2, 3, 2)\n",
        "print(\"Reshape from 1D to 3D\")\n",
        "print(newarr)"
      ],
      "metadata": {
        "colab": {
          "base_uri": "https://localhost:8080/"
        },
        "id": "GIKRcsoQMvON",
        "outputId": "4b92b3df-f919-4c80-8c12-c4cdd011cf6c"
      },
      "execution_count": 3,
      "outputs": [
        {
          "output_type": "stream",
          "name": "stdout",
          "text": [
            "Reshape from 1D to 3D\n",
            "[[[1 1]\n",
            "  [1 1]\n",
            "  [2 2]]\n",
            "\n",
            " [[2 2]\n",
            "  [3 3]\n",
            "  [3 3]]]\n"
          ]
        }
      ]
    },
    {
      "cell_type": "markdown",
      "source": [
        "<h3>Check if the returned array is a copy or a view:</h3>"
      ],
      "metadata": {
        "id": "xV0L_yuzNCdl"
      }
    },
    {
      "cell_type": "code",
      "source": [
        "arr = np.array([1,1,1,1,2,2,2,2])\n",
        "\n",
        "print(arr.reshape(2, 4).base)\n"
      ],
      "metadata": {
        "colab": {
          "base_uri": "https://localhost:8080/"
        },
        "id": "KwZrcAymM3wA",
        "outputId": "d3e8f2f9-8bce-42ee-9b8b-33388ae0f223"
      },
      "execution_count": 4,
      "outputs": [
        {
          "output_type": "stream",
          "name": "stdout",
          "text": [
            "[1 1 1 1 2 2 2 2]\n"
          ]
        }
      ]
    },
    {
      "cell_type": "markdown",
      "source": [
        "<h3>Unknown Dimension</h3>\n",
        "\n",
        "You are allowed to have one \"unknown\" dimension.\n",
        "\n",
        "Meaning that you do not have to specify an exact number for one of the dimensions in the reshape method.\n",
        "\n",
        "Pass -1 as the value, and NumPy will calculate this number for you."
      ],
      "metadata": {
        "id": "Rs2J1DtxNotn"
      }
    },
    {
      "cell_type": "code",
      "source": [
        "import numpy as np\n",
        "\n",
        "arr = np.array([1, 2, 3, 4, 5, 6, 7, 8])\n",
        "\n",
        "newarr = arr.reshape(2, 2, -1)\n",
        "print(\"Convert 1D array with 8 elements to 3D array with 2x2 elements:\")\n",
        "print(newarr)"
      ],
      "metadata": {
        "colab": {
          "base_uri": "https://localhost:8080/"
        },
        "id": "ufKKDaKzNOs9",
        "outputId": "01d1ec3b-e433-4264-b7d3-6149cd73b6fe"
      },
      "execution_count": 5,
      "outputs": [
        {
          "output_type": "stream",
          "name": "stdout",
          "text": [
            "Convert 1D array with 8 elements to 3D array with 2x2 elements:\n",
            "[[[1 2]\n",
            "  [3 4]]\n",
            "\n",
            " [[5 6]\n",
            "  [7 8]]]\n"
          ]
        }
      ]
    },
    {
      "cell_type": "markdown",
      "source": [
        "<h3>Flattening the arrays</h3>\n",
        "Flattening array means converting a multidimensional array into a 1D array.\n",
        "\n",
        "We can use reshape(-1) to do this"
      ],
      "metadata": {
        "id": "QEsrAOJEOB9b"
      }
    },
    {
      "cell_type": "code",
      "source": [
        "import numpy as np\n",
        "\n",
        "arr = np.array([[1, 2, 3], [4, 5, 6]])\n",
        "\n",
        "newarr = arr.reshape(-1)\n",
        "\n",
        "print(newarr)"
      ],
      "metadata": {
        "colab": {
          "base_uri": "https://localhost:8080/"
        },
        "id": "f14UZ5gnN9RU",
        "outputId": "1c221e9d-0fd3-4d12-87fb-091bd6bca8b6"
      },
      "execution_count": 6,
      "outputs": [
        {
          "output_type": "stream",
          "name": "stdout",
          "text": [
            "[1 2 3 4 5 6]\n"
          ]
        }
      ]
    }
  ]
}