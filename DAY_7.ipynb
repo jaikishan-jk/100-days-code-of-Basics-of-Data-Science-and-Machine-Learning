{
  "nbformat": 4,
  "nbformat_minor": 0,
  "metadata": {
    "colab": {
      "provenance": []
    },
    "kernelspec": {
      "name": "python3",
      "display_name": "Python 3"
    },
    "language_info": {
      "name": "python"
    }
  },
  "cells": [
    {
      "cell_type": "markdown",
      "source": [
        "<H1><B>DAY 7</H1></B>\n",
        "\n",
        "---\n",
        "\n"
      ],
      "metadata": {
        "id": "TUxFUOD5Aa94"
      }
    },
    {
      "cell_type": "markdown",
      "source": [
        "<H2>NumPy Array Iterating</H2>\n",
        "\n",
        "---\n",
        "\n"
      ],
      "metadata": {
        "id": "GcDRufyYAilN"
      }
    },
    {
      "cell_type": "markdown",
      "source": [
        "<H3>Iterating Arrays</H3>\n",
        "\n",
        "Iterating means going through elements one by one.\n",
        "\n",
        "As we deal with multi-dimensional arrays in numpy, we can do this using basic for loop of python.\n",
        "\n",
        "If we iterate on a 1-D array it will go through each element one by one."
      ],
      "metadata": {
        "id": "fjiReJ01AuJT"
      }
    },
    {
      "cell_type": "code",
      "execution_count": 2,
      "metadata": {
        "colab": {
          "base_uri": "https://localhost:8080/"
        },
        "id": "ZeGyUVFyAXyE",
        "outputId": "f32755bc-5ed1-45a4-ace0-95484dc14ec7"
      },
      "outputs": [
        {
          "output_type": "stream",
          "name": "stdout",
          "text": [
            "1\n",
            "1\n",
            "1\n",
            "2\n",
            "2\n",
            "2\n"
          ]
        }
      ],
      "source": [
        "import numpy as np\n",
        "\n",
        "arr = np.array([1,1,1,2,2,2])\n",
        "\n",
        "for x in arr:\n",
        "  print(x)"
      ]
    },
    {
      "cell_type": "markdown",
      "source": [
        "<H3>Iterating 2-D Arrays</H3>"
      ],
      "metadata": {
        "id": "MFuz1ictBGrs"
      }
    },
    {
      "cell_type": "code",
      "source": [
        "import numpy as np\n",
        "\n",
        "arr = np.array([[1,0,3], [2,6,7]])\n",
        "\n",
        "for x in arr:\n",
        "  print(x)"
      ],
      "metadata": {
        "colab": {
          "base_uri": "https://localhost:8080/"
        },
        "id": "miDsTz-ZBPRl",
        "outputId": "0627a8ef-ef49-4170-bd7d-9d98be7c8831"
      },
      "execution_count": 3,
      "outputs": [
        {
          "output_type": "stream",
          "name": "stdout",
          "text": [
            "[1 0 3]\n",
            "[2 6 7]\n"
          ]
        }
      ]
    },
    {
      "cell_type": "code",
      "source": [
        "print(\"Iterate on each scalar element of the 2-D array:\")\n",
        "for x in arr:\n",
        "  for y in x:\n",
        "    print(y)"
      ],
      "metadata": {
        "colab": {
          "base_uri": "https://localhost:8080/"
        },
        "id": "LV7TCHtzA69N",
        "outputId": "60ff7304-b5c8-4c19-fd73-6eabf4252bcf"
      },
      "execution_count": 5,
      "outputs": [
        {
          "output_type": "stream",
          "name": "stdout",
          "text": [
            "Iterate on each scalar element of the 2-D array:\n",
            "1\n",
            "0\n",
            "3\n",
            "2\n",
            "6\n",
            "7\n"
          ]
        }
      ]
    },
    {
      "cell_type": "markdown",
      "source": [
        "<h3>Iterating 3-D Arrays</h3>"
      ],
      "metadata": {
        "id": "pzgGbfUTBvu4"
      }
    },
    {
      "cell_type": "code",
      "source": [
        "import numpy as np\n",
        "\n",
        "arr = np.array([[[1, 2, 3], [4, 5, 6]], [[7, 8, 9], [10, 11, 12]]])\n",
        "\n",
        "for x in arr:\n",
        "  print(x)"
      ],
      "metadata": {
        "colab": {
          "base_uri": "https://localhost:8080/"
        },
        "id": "AlNiFpWXBgAb",
        "outputId": "1e8847bc-9744-4d4a-c6c8-214a701908d2"
      },
      "execution_count": 6,
      "outputs": [
        {
          "output_type": "stream",
          "name": "stdout",
          "text": [
            "[[1 2 3]\n",
            " [4 5 6]]\n",
            "[[ 7  8  9]\n",
            " [10 11 12]]\n"
          ]
        }
      ]
    },
    {
      "cell_type": "code",
      "source": [
        "print(\"Iterate down to the scalars:\")\n",
        "for x in arr:\n",
        "  for y in x:\n",
        "    for z in y:\n",
        "      print(z)"
      ],
      "metadata": {
        "colab": {
          "base_uri": "https://localhost:8080/"
        },
        "id": "Wghm1NfeB5hN",
        "outputId": "842c6e8b-c8ae-40f1-d515-66aa00d35d37"
      },
      "execution_count": 7,
      "outputs": [
        {
          "output_type": "stream",
          "name": "stdout",
          "text": [
            "Iterate down to the scalars:\n",
            "1\n",
            "2\n",
            "3\n",
            "4\n",
            "5\n",
            "6\n",
            "7\n",
            "8\n",
            "9\n",
            "10\n",
            "11\n",
            "12\n"
          ]
        }
      ]
    },
    {
      "cell_type": "markdown",
      "source": [
        "<h3>Iterating Arrays Using nditer()</h3>\n",
        "The function nditer() is a helping function that can be used from very basic to very advanced iterations."
      ],
      "metadata": {
        "id": "G1y86MgQCOQw"
      }
    },
    {
      "cell_type": "code",
      "source": [
        "import numpy as np\n",
        "\n",
        "arr = np.array([[[1, 2], [3, 4]], [[5, 6], [7, 8]]])\n",
        "\n",
        "for x in np.nditer(arr):\n",
        "  print(x)"
      ],
      "metadata": {
        "colab": {
          "base_uri": "https://localhost:8080/"
        },
        "id": "X79gJnW9CB7_",
        "outputId": "6acf528a-fcea-472b-9d12-95fcc215f427"
      },
      "execution_count": 8,
      "outputs": [
        {
          "output_type": "stream",
          "name": "stdout",
          "text": [
            "1\n",
            "2\n",
            "3\n",
            "4\n",
            "5\n",
            "6\n",
            "7\n",
            "8\n"
          ]
        }
      ]
    },
    {
      "cell_type": "markdown",
      "source": [
        "<h3>Iterating Array With Different Data Types</h3>\n",
        "We can use op_dtypes argument and pass it the expected datatype to change the datatype of elements while iterating."
      ],
      "metadata": {
        "id": "mkCjnbk_CeIV"
      }
    },
    {
      "cell_type": "code",
      "source": [
        "import numpy as np\n",
        "\n",
        "arr = np.array([1,2,3])\n",
        "\n",
        "for x in np.nditer(arr, flags=['buffered'], op_dtypes=['S']):\n",
        "  print(x)"
      ],
      "metadata": {
        "colab": {
          "base_uri": "https://localhost:8080/"
        },
        "id": "s_-JEfgQCXVE",
        "outputId": "a4a8e632-2bca-445e-b5b2-1f0ea51712a8"
      },
      "execution_count": 12,
      "outputs": [
        {
          "output_type": "stream",
          "name": "stdout",
          "text": [
            "b'1'\n",
            "b'2'\n",
            "b'3'\n"
          ]
        }
      ]
    },
    {
      "cell_type": "markdown",
      "source": [
        "<h3>Iterating With Different Step Size</h3>"
      ],
      "metadata": {
        "id": "62y6mG7TDAOb"
      }
    },
    {
      "cell_type": "code",
      "source": [
        "import numpy as np\n",
        "\n",
        "arr = np.array([[1, 2, 3, 4], [5, 6, 7, 8]])\n",
        "\n",
        "for x in np.nditer(arr[:, ::2]):\n",
        "  print(x)"
      ],
      "metadata": {
        "colab": {
          "base_uri": "https://localhost:8080/"
        },
        "id": "0dhMvVT_CmwK",
        "outputId": "20deeb87-7567-4eea-f2d1-c9daf9819a3c"
      },
      "execution_count": 13,
      "outputs": [
        {
          "output_type": "stream",
          "name": "stdout",
          "text": [
            "1\n",
            "3\n",
            "5\n",
            "7\n"
          ]
        }
      ]
    },
    {
      "cell_type": "markdown",
      "source": [
        "<h3>Enumerated Iteration Using ndenumerate()</h3>\n",
        "Enumeration means mentioning sequence number of somethings one by one.\n",
        "\n",
        "Sometimes we require corresponding index of the element while iterating, the ndenumerate() method can be used for those usecases."
      ],
      "metadata": {
        "id": "LWLD8e58DT4l"
      }
    },
    {
      "cell_type": "code",
      "source": [
        "import numpy as np\n",
        "\n",
        "arr = np.array([1, 2, 3])\n",
        "\n",
        "for idx, x in np.ndenumerate(arr):\n",
        "  print(idx, x)"
      ],
      "metadata": {
        "colab": {
          "base_uri": "https://localhost:8080/"
        },
        "id": "hkdAb6feDKwk",
        "outputId": "1797f435-0977-40ba-ecf4-1c350b2e52ac"
      },
      "execution_count": 14,
      "outputs": [
        {
          "output_type": "stream",
          "name": "stdout",
          "text": [
            "(0,) 1\n",
            "(1,) 2\n",
            "(2,) 3\n"
          ]
        }
      ]
    },
    {
      "cell_type": "code",
      "source": [
        "import numpy as np\n",
        "\n",
        "arr = np.array([[1, 2, 3, 4], [5, 6, 7, 8]])\n",
        "\n",
        "for idx, x in np.ndenumerate(arr):\n",
        "  print(idx, x)"
      ],
      "metadata": {
        "colab": {
          "base_uri": "https://localhost:8080/"
        },
        "id": "NwYJKdxWDdCL",
        "outputId": "57a1900a-869b-4b35-b240-6da6629464c0"
      },
      "execution_count": 15,
      "outputs": [
        {
          "output_type": "stream",
          "name": "stdout",
          "text": [
            "(0, 0) 1\n",
            "(0, 1) 2\n",
            "(0, 2) 3\n",
            "(0, 3) 4\n",
            "(1, 0) 5\n",
            "(1, 1) 6\n",
            "(1, 2) 7\n",
            "(1, 3) 8\n",
            "(0, 0) 1\n",
            "(0, 1) 2\n",
            "(0, 2) 3\n",
            "(0, 3) 4\n",
            "(1, 0) 5\n",
            "(1, 1) 6\n",
            "(1, 2) 7\n",
            "(1, 3) 8\n"
          ]
        }
      ]
    },
    {
      "cell_type": "code",
      "source": [],
      "metadata": {
        "id": "4SZuOeNGDhX9"
      },
      "execution_count": null,
      "outputs": []
    }
  ]
}