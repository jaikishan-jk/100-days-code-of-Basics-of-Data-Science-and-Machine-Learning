{
  "nbformat": 4,
  "nbformat_minor": 0,
  "metadata": {
    "colab": {
      "provenance": []
    },
    "kernelspec": {
      "name": "python3",
      "display_name": "Python 3"
    },
    "language_info": {
      "name": "python"
    }
  },
  "cells": [
    {
      "cell_type": "markdown",
      "source": [
        "<H1><B>DAY 8\n",
        "\n",
        "---\n",
        "\n"
      ],
      "metadata": {
        "id": "L_PGehPYC0MU"
      }
    },
    {
      "cell_type": "markdown",
      "source": [
        "<H2><B>NumPy Joining Array</H2></B>\n",
        "\n",
        "---\n",
        "\n"
      ],
      "metadata": {
        "id": "xtQuCMDaCpe1"
      }
    },
    {
      "cell_type": "markdown",
      "source": [
        "Joining means putting contents of two or more arrays in a single array.\n",
        "\n",
        "In SQL we join tables based on a key, whereas in NumPy we join arrays by axes.\n",
        "\n",
        "We pass a sequence of arrays that we want to join to the concatenate() function, along with the axis. If axis is not explicitly passed, it is taken as 0."
      ],
      "metadata": {
        "id": "1tBdfa58C9dW"
      }
    },
    {
      "cell_type": "code",
      "execution_count": 1,
      "metadata": {
        "colab": {
          "base_uri": "https://localhost:8080/"
        },
        "id": "rApjEfmcCKFr",
        "outputId": "10371cd3-9f7d-4bfe-fb97-dcbc68a2f2ee"
      },
      "outputs": [
        {
          "output_type": "stream",
          "name": "stdout",
          "text": [
            "[1 2 3 4 5 6]\n"
          ]
        }
      ],
      "source": [
        "import numpy as np\n",
        "\n",
        "arr1 = np.array([1, 2, 3])\n",
        "\n",
        "arr2 = np.array([4, 5, 6])\n",
        "\n",
        "arr = np.concatenate((arr1, arr2))\n",
        "\n",
        "print(arr)\n"
      ]
    },
    {
      "cell_type": "code",
      "source": [
        "arr1 = np.array([[1, 2], [3, 4]])\n",
        "\n",
        "arr2 = np.array([[5, 6], [7, 8]])\n",
        "\n",
        "arr = np.concatenate((arr1, arr2), axis=1)\n",
        "\n",
        "print(\"Join two 2-D arrays along rows (axis=1):\")\n",
        "\n",
        "print(arr)"
      ],
      "metadata": {
        "colab": {
          "base_uri": "https://localhost:8080/"
        },
        "id": "L09jEK-CDNhf",
        "outputId": "4829344b-3b65-4bd5-bc3d-7dc93bade464"
      },
      "execution_count": 2,
      "outputs": [
        {
          "output_type": "stream",
          "name": "stdout",
          "text": [
            "Join two 2-D arrays along rows (axis=1):\n",
            "[[1 2 5 6]\n",
            " [3 4 7 8]]\n"
          ]
        }
      ]
    },
    {
      "cell_type": "markdown",
      "source": [
        "<h3>Joining Arrays Using Stack Functions</h3>\n",
        "\n",
        "Stacking is same as concatenation, the only difference is that stacking is done along a new axis.\n",
        "\n",
        "We can concatenate two 1-D arrays along the second axis which would result in putting them one over the other, ie. stacking.\n",
        "\n",
        "We pass a sequence of arrays that we want to join to the stack() method along with the axis. If axis is not explicitly passed it is taken as 0."
      ],
      "metadata": {
        "id": "rrbaFRDZDcUS"
      }
    },
    {
      "cell_type": "code",
      "source": [
        "import numpy as np\n",
        "\n",
        "arr1 = np.array([1, 2, 3])\n",
        "\n",
        "arr2 = np.array([4, 5, 6])\n",
        "\n",
        "arr = np.stack((arr1, arr2), axis=1)\n",
        "\n",
        "print(arr)"
      ],
      "metadata": {
        "colab": {
          "base_uri": "https://localhost:8080/"
        },
        "id": "A9uASk7TDkiT",
        "outputId": "7ac3b471-3ab4-4177-d558-53d18a910bb8"
      },
      "execution_count": 3,
      "outputs": [
        {
          "output_type": "stream",
          "name": "stdout",
          "text": [
            "[[1 4]\n",
            " [2 5]\n",
            " [3 6]]\n"
          ]
        }
      ]
    },
    {
      "cell_type": "markdown",
      "source": [
        "<h3>Stacking Along Rows</h3>\n",
        "\n",
        "NumPy provides a helper function: hstack() to stack along rows."
      ],
      "metadata": {
        "id": "Z9fADD5BDp9q"
      }
    },
    {
      "cell_type": "code",
      "source": [
        "import numpy as np\n",
        "\n",
        "arr1 = np.array([1, 2, 3])\n",
        "\n",
        "arr2 = np.array([4, 5, 6])\n",
        "\n",
        "arr = np.hstack((arr1, arr2))\n",
        "\n",
        "print(arr)"
      ],
      "metadata": {
        "colab": {
          "base_uri": "https://localhost:8080/"
        },
        "id": "KGCMOFINDlBy",
        "outputId": "ecade38e-7970-44e7-f5c8-4ff547ffd3d6"
      },
      "execution_count": 4,
      "outputs": [
        {
          "output_type": "stream",
          "name": "stdout",
          "text": [
            "[1 2 3 4 5 6]\n"
          ]
        }
      ]
    },
    {
      "cell_type": "markdown",
      "source": [
        "<h3>Stacking Along Columns</h3>\n",
        "\n",
        "NumPy provides a helper function: vstack()  to stack along columns."
      ],
      "metadata": {
        "id": "mtkSv_UID2GI"
      }
    },
    {
      "cell_type": "code",
      "source": [
        "import numpy as np\n",
        "\n",
        "arr1 = np.array([1, 2, 3])\n",
        "\n",
        "arr2 = np.array([4, 5, 6])\n",
        "\n",
        "arr = np.vstack((arr1, arr2))\n",
        "\n",
        "print(arr)"
      ],
      "metadata": {
        "colab": {
          "base_uri": "https://localhost:8080/"
        },
        "id": "dx5XXguqD-x9",
        "outputId": "9ca38b39-bbdd-44b6-eb00-01672140feaa"
      },
      "execution_count": 5,
      "outputs": [
        {
          "output_type": "stream",
          "name": "stdout",
          "text": [
            "[[1 2 3]\n",
            " [4 5 6]]\n"
          ]
        }
      ]
    },
    {
      "cell_type": "markdown",
      "source": [
        "<h3>Stacking Along Height (depth)</h3>\n",
        "\n",
        "NumPy provides a helper function: dstack() to stack along height, which is the same as depth."
      ],
      "metadata": {
        "id": "SND77GI3EycE"
      }
    },
    {
      "cell_type": "code",
      "source": [
        "import numpy as np\n",
        "\n",
        "arr1 = np.array([1, 2, 3])\n",
        "\n",
        "arr2 = np.array([4, 5, 6])\n",
        "\n",
        "arr = np.dstack((arr1, arr2))\n",
        "\n",
        "print(arr)"
      ],
      "metadata": {
        "colab": {
          "base_uri": "https://localhost:8080/"
        },
        "id": "WCb92XnSE2Uy",
        "outputId": "367373ab-a161-46d0-97d2-a728faea2247"
      },
      "execution_count": 6,
      "outputs": [
        {
          "output_type": "stream",
          "name": "stdout",
          "text": [
            "[[[1 4]\n",
            "  [2 5]\n",
            "  [3 6]]]\n"
          ]
        }
      ]
    },
    {
      "cell_type": "code",
      "source": [],
      "metadata": {
        "id": "RTbKC7RrE46j"
      },
      "execution_count": null,
      "outputs": []
    }
  ]
}