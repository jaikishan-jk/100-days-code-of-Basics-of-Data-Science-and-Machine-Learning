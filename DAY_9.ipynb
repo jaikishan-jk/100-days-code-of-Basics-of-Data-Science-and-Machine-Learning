{
  "nbformat": 4,
  "nbformat_minor": 0,
  "metadata": {
    "colab": {
      "provenance": []
    },
    "kernelspec": {
      "name": "python3",
      "display_name": "Python 3"
    },
    "language_info": {
      "name": "python"
    }
  },
  "cells": [
    {
      "cell_type": "markdown",
      "source": [
        "<H1><B>DAY 9</H1></B>\n",
        "\n",
        "\n",
        "\n",
        "---\n",
        "\n",
        "\n",
        "\n"
      ],
      "metadata": {
        "id": "USCO7W8r-nRG"
      }
    },
    {
      "cell_type": "markdown",
      "source": [
        "<H2>NumPy Splitting Array</H2>\n",
        "\n",
        "---\n",
        "\n"
      ],
      "metadata": {
        "id": "3ItEf9SS-6PS"
      }
    },
    {
      "cell_type": "markdown",
      "source": [
        "Splitting is reverse operation of Joining.\n",
        "\n",
        "Joining merges multiple arrays into one and Splitting breaks one array into multiple.\n",
        "\n",
        "We use array_split() for splitting arrays, we pass it the array we want to split and the number of splits."
      ],
      "metadata": {
        "id": "3XosE2sK_DeA"
      }
    },
    {
      "cell_type": "code",
      "source": [
        "import numpy as np\n",
        "\n",
        "arr = np.array([1, 2, 3, 4, 5, 6])\n",
        "\n",
        "newarr = np.array_split(arr, 3)\n",
        "\n",
        "print('Split the array in 3 parts:')\n",
        "\n",
        "print(newarr)\n"
      ],
      "metadata": {
        "colab": {
          "base_uri": "https://localhost:8080/"
        },
        "id": "RDOchZT2-0uR",
        "outputId": "d02a9bad-6429-4a86-ceac-3073745eacb9"
      },
      "execution_count": 2,
      "outputs": [
        {
          "output_type": "stream",
          "name": "stdout",
          "text": [
            "Split the array in 3 parts:\n",
            "[array([1, 2]), array([3, 4]), array([5, 6])]\n"
          ]
        }
      ]
    },
    {
      "cell_type": "code",
      "execution_count": 3,
      "metadata": {
        "colab": {
          "base_uri": "https://localhost:8080/"
        },
        "id": "jd1eA7WC-keq",
        "outputId": "a58a6188-b82f-44a2-dc53-3ee723fe5dcf"
      },
      "outputs": [
        {
          "output_type": "stream",
          "name": "stdout",
          "text": [
            "Split the array in 4 parts:\n",
            "[array([1, 2]), array([3, 4]), array([5]), array([6])]\n"
          ]
        }
      ],
      "source": [
        "newarr = np.array_split(arr, 4)\n",
        "\n",
        "print('Split the array in 4 parts:')\n",
        "\n",
        "print(newarr)"
      ]
    },
    {
      "cell_type": "markdown",
      "source": [
        "<h3>Split Into Arrays</h3>\n",
        "\n",
        "The return value of the array_split() method is an array containing each of the split as an array.\n",
        "\n",
        "If you split an array into 3 arrays, you can access them from the result just like any array element:"
      ],
      "metadata": {
        "id": "CrxhTkwu_o-s"
      }
    },
    {
      "cell_type": "code",
      "source": [
        "import numpy as np\n",
        "\n",
        "arr = np.array([1, 2, 3, 4, 5, 6])\n",
        "\n",
        "newarr = np.array_split(arr, 3)\n",
        "\n",
        "print(newarr[0])\n",
        "print(newarr[1])\n",
        "print(newarr[2])"
      ],
      "metadata": {
        "colab": {
          "base_uri": "https://localhost:8080/"
        },
        "id": "OLSn0Yph_juI",
        "outputId": "90407ae6-5f20-4bf8-866f-e25481a255c1"
      },
      "execution_count": 4,
      "outputs": [
        {
          "output_type": "stream",
          "name": "stdout",
          "text": [
            "[1 2]\n",
            "[3 4]\n",
            "[5 6]\n"
          ]
        }
      ]
    },
    {
      "cell_type": "markdown",
      "source": [
        "<h3>Splitting 2-D Arrays"
      ],
      "metadata": {
        "id": "77b4t7cn_5B6"
      }
    },
    {
      "cell_type": "code",
      "source": [
        "import numpy as np\n",
        "\n",
        "arr = np.array([[1, 2], [3, 4], [5, 6], [7, 8], [9, 10], [11, 12]])\n",
        "\n",
        "newarr = np.array_split(arr, 3)\n",
        "\n",
        "print('Split the 2-D array into three 2-D arrays.')\n",
        "\n",
        "print(newarr)"
      ],
      "metadata": {
        "colab": {
          "base_uri": "https://localhost:8080/"
        },
        "id": "IKB7WOqG_xVx",
        "outputId": "b644deb9-c873-424d-ed70-f9a5ee9d7e9b"
      },
      "execution_count": 5,
      "outputs": [
        {
          "output_type": "stream",
          "name": "stdout",
          "text": [
            "Split the 2-D array into three 2-D arrays.\n",
            "[array([[1, 2],\n",
            "       [3, 4]]), array([[5, 6],\n",
            "       [7, 8]]), array([[ 9, 10],\n",
            "       [11, 12]])]\n"
          ]
        }
      ]
    },
    {
      "cell_type": "code",
      "source": [
        "import numpy as np\n",
        "\n",
        "arr = np.array([[1, 2, 3], [4, 5, 6], [7, 8, 9], [10, 11, 12], [13, 14, 15], [16, 17, 18]])\n",
        "\n",
        "newarr = np.array_split(arr, 3)\n",
        "\n",
        "print('Split the 2-D array into three 2-D arrays.')\n",
        "print(newarr)"
      ],
      "metadata": {
        "colab": {
          "base_uri": "https://localhost:8080/"
        },
        "id": "HvrBjH2DAHOK",
        "outputId": "e8ee1e34-c732-4a63-8218-0635e74e6adc"
      },
      "execution_count": 6,
      "outputs": [
        {
          "output_type": "stream",
          "name": "stdout",
          "text": [
            "Split the 2-D array into three 2-D arrays.\n",
            "[array([[1, 2, 3],\n",
            "       [4, 5, 6]]), array([[ 7,  8,  9],\n",
            "       [10, 11, 12]]), array([[13, 14, 15],\n",
            "       [16, 17, 18]])]\n"
          ]
        }
      ]
    },
    {
      "cell_type": "code",
      "source": [
        "newarr = np.array_split(arr, 3, axis=1)\n",
        "\n",
        "print('Split the 2-D array into three 2-D arrays along rows.')\n",
        "\n",
        "print(newarr)"
      ],
      "metadata": {
        "colab": {
          "base_uri": "https://localhost:8080/"
        },
        "id": "Kjs_OvDuAbyH",
        "outputId": "bd9c4687-ff7a-40b9-e8c4-922a696148f2"
      },
      "execution_count": 7,
      "outputs": [
        {
          "output_type": "stream",
          "name": "stdout",
          "text": [
            "Split the 2-D array into three 2-D arrays along rows.\n",
            "[array([[ 1],\n",
            "       [ 4],\n",
            "       [ 7],\n",
            "       [10],\n",
            "       [13],\n",
            "       [16]]), array([[ 2],\n",
            "       [ 5],\n",
            "       [ 8],\n",
            "       [11],\n",
            "       [14],\n",
            "       [17]]), array([[ 3],\n",
            "       [ 6],\n",
            "       [ 9],\n",
            "       [12],\n",
            "       [15],\n",
            "       [18]])]\n"
          ]
        }
      ]
    },
    {
      "cell_type": "markdown",
      "source": [
        "Use the hsplit() method to split the 2-D array into three 2-D arrays along rows."
      ],
      "metadata": {
        "id": "v3P5ZmZ6AmCw"
      }
    },
    {
      "cell_type": "code",
      "source": [
        "newarr = np.hsplit(arr, 3)\n",
        "\n",
        "print(newarr)"
      ],
      "metadata": {
        "id": "pjaTYBmiAo_L",
        "outputId": "0e60f462-861b-4601-a9d6-bd31d4a63606",
        "colab": {
          "base_uri": "https://localhost:8080/"
        }
      },
      "execution_count": 8,
      "outputs": [
        {
          "output_type": "stream",
          "name": "stdout",
          "text": [
            "[array([[ 1],\n",
            "       [ 4],\n",
            "       [ 7],\n",
            "       [10],\n",
            "       [13],\n",
            "       [16]]), array([[ 2],\n",
            "       [ 5],\n",
            "       [ 8],\n",
            "       [11],\n",
            "       [14],\n",
            "       [17]]), array([[ 3],\n",
            "       [ 6],\n",
            "       [ 9],\n",
            "       [12],\n",
            "       [15],\n",
            "       [18]])]\n"
          ]
        }
      ]
    },
    {
      "cell_type": "code",
      "source": [],
      "metadata": {
        "id": "ccPPpPwYArkk"
      },
      "execution_count": null,
      "outputs": []
    }
  ]
}